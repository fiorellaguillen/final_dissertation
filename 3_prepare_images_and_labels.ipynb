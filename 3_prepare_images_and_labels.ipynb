{
 "cells": [
  {
   "cell_type": "code",
   "execution_count": 11,
   "id": "99bb69d7",
   "metadata": {},
   "outputs": [],
   "source": [
    "import os\n",
    "import numpy as np\n",
    "import cv2\n",
    "import json\n",
    "from labelme import utils\n",
    "from shapely.geometry import Polygon\n",
    "from shapely.ops import unary_union\n",
    "from labelme.utils.shape import shape_to_mask\n",
    "from shapely.geometry import MultiPolygon\n",
    "from PIL import Image\n",
    "import shutil\n",
    "import random\n",
    "from pathlib import Path"
   ]
  },
  {
   "cell_type": "markdown",
   "id": "a302dba0",
   "metadata": {},
   "source": [
    "## Prepare CMP Dataset"
   ]
  },
  {
   "cell_type": "markdown",
   "id": "33c1c37a",
   "metadata": {},
   "source": [
    "### Load dataset"
   ]
  },
  {
   "cell_type": "markdown",
   "id": "66cadfc3",
   "metadata": {},
   "source": [
    "CMP Facade Dataset was obtained from: https://cmp.felk.cvut.cz/~tylecr1/facade/\n",
    "Including both the Base dataset ([CMP_facade_DB_base.zip](https://cmp.felk.cvut.cz/~tylecr1/facade/CMP_facade_DB_base.zip) - 378 images) and the Extended dataset ([CMP_facade_DB_extended.zip](https://cmp.felk.cvut.cz/~tylecr1/facade/CMP_facade_DB_extended.zip) - 228 images)"
   ]
  },
  {
   "cell_type": "code",
   "execution_count": 2,
   "id": "c24d4a09",
   "metadata": {},
   "outputs": [],
   "source": [
    "#The original dataset includes three files per image: a .jpg image, a .png mask, and a .xml annotation file.\n",
    "cmp_dataset=\"../training_images/cmp_dataset/all\"\n",
    "\n",
    "#We'll create a list of only the .png files(masks) in the cmp_dataset directory\n",
    "cmp_png = [file for file in os.listdir(cmp_dataset) if file.endswith('.png')]"
   ]
  },
  {
   "cell_type": "markdown",
   "id": "6bd18898",
   "metadata": {},
   "source": [
    "### Reclassify and aggregate existing classes: go from 12 to 3 classes"
   ]
  },
  {
   "cell_type": "markdown",
   "id": "34237fe0",
   "metadata": {},
   "source": [
    "Originally, the CMP Facade dataset includes 12 classes, described in label_names.txt provided in the zip file of the dataset."
   ]
  },
  {
   "cell_type": "code",
   "execution_count": 3,
   "id": "8bcef2ad",
   "metadata": {},
   "outputs": [],
   "source": [
    "#Original class IDs\n",
    "background_id = 1 #background\n",
    "porosity_ids = [3, 4, 7, 8, 12] #window, door, balcony, blind, shop\n",
    "\n",
    "#New directory to save the reclassified masks\n",
    "output_folder = \"../training_images/cmp_dataset/cmp_masks\"\n",
    "os.makedirs(output_folder, exist_ok=True)\n",
    "\n",
    "#Reclassify classes\n",
    "for file in cmp_png:\n",
    "    # Cargar la máscara original\n",
    "    mask_path = os.path.join(cmp_dataset, file)\n",
    "    mask = np.array(Image.open(mask_path))\n",
    "\n",
    "    #Create a new mask with the same shape as the original\n",
    "    new_mask = np.zeros_like(mask, dtype=np.uint8)\n",
    "\n",
    "    #Apply the new class IDs\n",
    "    new_mask[mask == background_id] = 1 #new class for 'background' (class 1)\n",
    "    new_mask[np.isin(mask, porosity_ids)] = 2 #new class for 'porosity' (class 2)\n",
    "    new_mask[(mask != background_id) & (~np.isin(mask, porosity_ids))] = 3 #all other classes assigned to 'wall' (class 3)\n",
    "\n",
    "    #Save new masks\n",
    "    new_mask_image = Image.fromarray(new_mask)\n",
    "    new_mask_image.save(os.path.join(output_folder, file))"
   ]
  },
  {
   "cell_type": "markdown",
   "id": "7d1e81c8",
   "metadata": {},
   "source": [
    "### Uniformize size of all images"
   ]
  },
  {
   "cell_type": "code",
   "execution_count": 4,
   "id": "5cc5df55",
   "metadata": {},
   "outputs": [],
   "source": [
    "def resize_and_crop_or_pad_np(image, target_height=512, target_width=1024):\n",
    "    h, w = image.shape[:2]\n",
    "\n",
    "    #Resize proportionally\n",
    "    scale = min(target_height / h, target_width / w)\n",
    "    new_h = int(h * scale)\n",
    "    new_w = int(w * scale)\n",
    "\n",
    "    #Resize with appropriate interpolation\n",
    "    interp = cv2.INTER_NEAREST if image.ndim == 2 or image.shape[2] == 1 else cv2.INTER_LINEAR\n",
    "    resized = cv2.resize(image, (new_w, new_h), interpolation=interp)\n",
    "\n",
    "    #Create image with all pixels with value 0 (padding)\n",
    "    if image.ndim == 2:  # Máscaras\n",
    "        padded = np.zeros((target_height, target_width), dtype=image.dtype)\n",
    "    else:\n",
    "        padded = np.zeros((target_height, target_width, image.shape[2]), dtype=image.dtype)\n",
    "\n",
    "    # Insert image in the center\n",
    "    top = (target_height - new_h) // 2\n",
    "    left = (target_width - new_w) // 2\n",
    "    padded[top:top+new_h, left:left+new_w] = resized\n",
    "\n",
    "    return padded"
   ]
  },
  {
   "cell_type": "code",
   "execution_count": 5,
   "id": "df5a9a01",
   "metadata": {},
   "outputs": [],
   "source": [
    "def preprocess_images(input_folder, output_folder, target_height, target_width, color=True, ext=\".jpg\"):\n",
    "    \"\"\"\n",
    "    Preprocess images or masks by resizing and cropping/padding them.\n",
    "    \n",
    "    Parameters:\n",
    "        input_folder (str): Path to the folder with input images.\n",
    "        output_folder (str): Path to save the preprocessed outputs.\n",
    "        target_height (int): Desired height after preprocessing.\n",
    "        target_width (int): Desired width after preprocessing.\n",
    "        color (bool): Whether to read images in color or grayscale.\n",
    "        ext (str): File extension to filter by (e.g., '.jpg', '.png').\n",
    "    \"\"\"\n",
    "    os.makedirs(output_folder, exist_ok=True)\n",
    "    flag = cv2.IMREAD_COLOR if color else cv2.IMREAD_GRAYSCALE\n",
    "\n",
    "    for file in os.listdir(input_folder):\n",
    "        if file.endswith(ext):\n",
    "            input_path = os.path.join(input_folder, file)\n",
    "            image = cv2.imread(input_path, flag)\n",
    "\n",
    "            # Apply resizing and padding\n",
    "            preprocessed = resize_and_crop_or_pad_np(image, target_height, target_width)\n",
    "\n",
    "            # Save result\n",
    "            output_path = os.path.join(output_folder, file)\n",
    "            cv2.imwrite(output_path, preprocessed)\n",
    "\n",
    "    print(f\"✔ All files from '{input_folder}' have been preprocessed and saved to '{output_folder}'.\")"
   ]
  },
  {
   "cell_type": "code",
   "execution_count": 6,
   "id": "b79436f9",
   "metadata": {},
   "outputs": [
    {
     "name": "stdout",
     "output_type": "stream",
     "text": [
      "✔ All files from '../training_images/cmp_dataset/all' have been preprocessed and saved to '../training_images/cmp_dataset/cmp_images_preprocessed'.\n",
      "✔ All files from '../training_images/cmp_dataset/cmp_masks' have been preprocessed and saved to '../training_images/cmp_dataset/cmp_masks_preprocessed'.\n"
     ]
    }
   ],
   "source": [
    "#Parameters\n",
    "target_height = 512\n",
    "target_width = 1024\n",
    "\n",
    "#Process images\n",
    "preprocess_images(\n",
    "    input_folder='../training_images/cmp_dataset/all',\n",
    "    output_folder='../training_images/cmp_dataset/cmp_images_preprocessed',\n",
    "    target_height=target_height,\n",
    "    target_width=target_width,\n",
    "    color=True,\n",
    "    ext=\".jpg\"\n",
    ")\n",
    "\n",
    "#Process masks\n",
    "preprocess_images(\n",
    "    input_folder='../training_images/cmp_dataset/cmp_masks',\n",
    "    output_folder='../training_images/cmp_dataset/cmp_masks_preprocessed',\n",
    "    target_height=target_height,\n",
    "    target_width=target_width,\n",
    "    color=False,\n",
    "    ext=\".png\"\n",
    ")"
   ]
  },
  {
   "cell_type": "markdown",
   "id": "6116f142",
   "metadata": {},
   "source": [
    "### Visual inspection of the new classes"
   ]
  },
  {
   "cell_type": "code",
   "execution_count": null,
   "id": "30395905",
   "metadata": {},
   "outputs": [],
   "source": [
    "import os\n",
    "import cv2\n",
    "import numpy as np\n",
    "import random\n",
    "import matplotlib.pyplot as plt\n",
    "\n",
    "def visualize_class_masks(mask_folder, num_images=5, max_size=256):\n",
    "    \"\"\"\n",
    "    Visualizes grayscale segmentation masks (0: padding, 1: background, 2: porosity, 3: wall) as RGB images.\n",
    "\n",
    "    Parameters:\n",
    "    - mask_folder: folder containing grayscale PNG masks\n",
    "    - num_images: number of random masks to visualize\n",
    "    - max_size: maximum width or height (preserving aspect ratio)\n",
    "    \"\"\"\n",
    "    #Class value to RGB color map\n",
    "    color_map = {\n",
    "        0: [50, 50, 50],    # padding: dark gray\n",
    "        1: [0, 0, 255],     # background: blue\n",
    "        2: [0, 255, 0],     # porosity: green\n",
    "        3: [255, 0, 0]      # wall: red\n",
    "    }\n",
    "\n",
    "    #Get all PNG mask files\n",
    "    mask_files = [f for f in os.listdir(mask_folder) if f.endswith(\".png\")]\n",
    "    if not mask_files:\n",
    "        print(\"No PNG masks found in the folder.\")\n",
    "        return\n",
    "\n",
    "    #Random selection of files\n",
    "    selected_files = random.sample(mask_files, min(num_images, len(mask_files)))\n",
    "\n",
    "    #Display masks\n",
    "    plt.figure(figsize=(15, 5))\n",
    "    for i, filename in enumerate(selected_files):\n",
    "        path = os.path.join(mask_folder, filename)\n",
    "        mask = cv2.imread(path, cv2.IMREAD_GRAYSCALE)\n",
    "\n",
    "        #Convert to RGB using class values\n",
    "        rgb_mask = np.zeros((mask.shape[0], mask.shape[1], 3), dtype=np.uint8)\n",
    "        for class_val, color in color_map.items():\n",
    "            rgb_mask[mask == class_val] = color\n",
    "\n",
    "        #Proportional resizing\n",
    "        h, w = rgb_mask.shape[:2]\n",
    "        scale = min(max_size / h, max_size / w)\n",
    "        new_w, new_h = int(w * scale), int(h * scale)\n",
    "        resized_mask = cv2.resize(rgb_mask, (new_w, new_h), interpolation=cv2.INTER_NEAREST)\n",
    "\n",
    "        #Plot image\n",
    "        plt.subplot(1, num_images, i + 1)\n",
    "        plt.imshow(resized_mask)\n",
    "        plt.title(filename)\n",
    "        plt.axis(\"off\")\n",
    "\n",
    "    plt.tight_layout()\n",
    "    plt.show()"
   ]
  },
  {
   "cell_type": "code",
   "execution_count": 9,
   "id": "3b745b7b",
   "metadata": {},
   "outputs": [
    {
     "data": {
      "image/png": "[encoded data removed]",
      "text/plain": [
       "<Figure size 1500x500 with 3 Axes>"
      ]
     },
     "metadata": {},
     "output_type": "display_data"
    }
   ],
   "source": [
    "visualize_class_masks(\"../training_images/cmp_dataset/cmp_masks_preprocessed\", num_images=3, max_size=256)"
   ]
  },
  {
   "cell_type": "markdown",
   "id": "b94dbc58",
   "metadata": {},
   "source": [
    "## Prepare self-annotated images"
   ]
  },
  {
   "cell_type": "markdown",
   "id": "7822e998",
   "metadata": {},
   "source": [
    "### Clean masks to avoid overlapping"
   ]
  },
  {
   "cell_type": "code",
   "execution_count": 12,
   "id": "d41e3eca",
   "metadata": {},
   "outputs": [],
   "source": [
    "input_folder = \"../training_images/mapillary/self_annotated_panos\"\n",
    "output_mask_folder = \"../training_images/mapillary/clean_masks_png\"\n",
    "os.makedirs(output_mask_folder, exist_ok=True)"
   ]
  },
  {
   "cell_type": "markdown",
   "id": "f0a42e36",
   "metadata": {},
   "source": [
    "Initially, images were mapped using 4 classes: background was divided in background and noise, but for simplicity, now I am transforming them to 3 classes. Also with this process I aim to avoid any overlapping that could have happened during the labelling process"
   ]
  },
  {
   "cell_type": "code",
   "execution_count": null,
   "id": "324f46d2",
   "metadata": {},
   "outputs": [
    {
     "name": "stdout",
     "output_type": "stream",
     "text": [
      "✔ Mask saved: 1030213207512897.json\n",
      "✔ Mask saved: 1087780485669405.json\n",
      "✔ Mask saved: 1088692992904317.json\n",
      "✔ Mask saved: 1125146331295359.json\n",
      "✔ Mask saved: 1129941494177744.json\n",
      "✔ Mask saved: 1133489437062226.json\n",
      "✔ Mask saved: 1139267263221502.json\n",
      "✔ Mask saved: 1140119406486597.json\n",
      "✔ Mask saved: 1194461634306982.json\n",
      "✔ Mask saved: 1217169839114872.json\n",
      "✔ Mask saved: 1237649180675104.json\n",
      "✔ Mask saved: 1308124026249811.json\n",
      "✔ Mask saved: 134730548704930.json\n",
      "✔ Mask saved: 139011208258627.json\n",
      "✔ Mask saved: 139843441502935.json\n",
      "✔ Mask saved: 1420907461603962.json\n",
      "✔ Mask saved: 1456789608008064.json\n",
      "✔ Mask saved: 146166904194230.json\n",
      "✔ Mask saved: 146519874158735.json\n",
      "✔ Mask saved: 1506323073037594.json\n",
      "✔ Mask saved: 157973892954789.json\n",
      "✔ Mask saved: 161125445960082.json\n",
      "✔ Mask saved: 161949462601268.json\n",
      "✔ Mask saved: 185970209940504.json\n",
      "✔ Mask saved: 193427859298662.json\n",
      "✔ Mask saved: 1956367494501635.json\n",
      "✔ Mask saved: 1973632079444363.json\n",
      "✔ Mask saved: 198823448752201.json\n",
      "✔ Mask saved: 199184925358733.json\n",
      "✔ Mask saved: 199865531977808.json\n",
      "✔ Mask saved: 204739257990825.json\n",
      "✔ Mask saved: 208030074466583.json\n",
      "✔ Mask saved: 208172570949196.json\n",
      "✔ Mask saved: 2158322684307630.json\n",
      "✔ Mask saved: 251577413418259.json\n",
      "✔ Mask saved: 255718646342604.json\n",
      "✔ Mask saved: 256232842922121.json\n",
      "✔ Mask saved: 2667539006765860.json\n",
      "✔ Mask saved: 2668827393310679.json\n",
      "✔ Mask saved: 2678520622446384.json\n",
      "✔ Mask saved: 279955187140335.json\n",
      "✔ Mask saved: 281524530309147.json\n",
      "✔ Mask saved: 286172439822679.json\n",
      "✔ Mask saved: 2872021049686900.json\n",
      "✔ Mask saved: 288481852920139.json\n",
      "✔ Mask saved: 2911648379107797.json\n",
      "✔ Mask saved: 2926086890985086.json\n",
      "✔ Mask saved: 2945495305726091.json\n",
      "✔ Mask saved: 2950993295227369.json\n",
      "✔ Mask saved: 297592228513789.json\n",
      "✔ Mask saved: 2979497418946383.json\n",
      "✔ Mask saved: 302433844702301.json\n",
      "✔ Mask saved: 307490694422190.json\n",
      "✔ Mask saved: 308629227453941.json\n",
      "✔ Mask saved: 312730827016998.json\n",
      "✔ Mask saved: 329346792124664.json\n",
      "✔ Mask saved: 330566202026640.json\n",
      "✔ Mask saved: 334552441433162.json\n",
      "✔ Mask saved: 378178610178730.json\n",
      "✔ Mask saved: 389768096378747.json\n",
      "✔ Mask saved: 4000368056717245.json\n",
      "✔ Mask saved: 430626801441311.json\n",
      "✔ Mask saved: 4321595941213273.json\n",
      "✔ Mask saved: 437154269144935.json\n",
      "✔ Mask saved: 455434102221305.json\n",
      "✔ Mask saved: 480788813141874.json\n",
      "✔ Mask saved: 484372489435285.json\n",
      "✔ Mask saved: 494483301864954.json\n",
      "✔ Mask saved: 494758525057859.json\n",
      "✔ Mask saved: 507197230470009.json\n",
      "✔ Mask saved: 523159460707456.json\n",
      "✔ Mask saved: 526526805025368.json\n",
      "✔ Mask saved: 536124867796305.json\n",
      "✔ Mask saved: 539143043917344.json\n",
      "✔ Mask saved: 540891290248585.json\n",
      "✔ Mask saved: 5477175269020892.json\n",
      "✔ Mask saved: 566874845837644.json\n",
      "✔ Mask saved: 576152128122789.json\n",
      "✔ Mask saved: 600867955605187.json\n",
      "✔ Mask saved: 605760114160321.json\n",
      "✔ Mask saved: 6101182943240839.json\n",
      "✔ Mask saved: 746610803024764.json\n",
      "✔ Mask saved: 749992685694857.json\n",
      "✔ Mask saved: 795151434758452.json\n",
      "✔ Mask saved: 800672630561588.json\n",
      "✔ Mask saved: 814993462754184.json\n",
      "✔ Mask saved: 815542139369185.json\n",
      "✔ Mask saved: 818662765744182.json\n",
      "✔ Mask saved: 826194184919975.json\n",
      "✔ Mask saved: 826746224599304.json\n",
      "✔ Mask saved: 830123407890626.json\n",
      "✔ Mask saved: 834015634182322.json\n",
      "✔ Mask saved: 834897327441931.json\n",
      "✔ Mask saved: 849050759015371.json\n",
      "✔ Mask saved: 853176762022103.json\n",
      "✔ Mask saved: 858074181448600.json\n",
      "✔ Mask saved: 865682944730343.json\n",
      "✔ Mask saved: 902030650344722.json\n",
      "✔ Mask saved: 902215560355405.json\n",
      "✔ Mask saved: 964145454321448.json\n",
      "✔ Mask saved: 974134760019769.json\n",
      "Done! All masks saved.\n"
     ]
    }
   ],
   "source": [
    "#Convert LabelMe shapes into a unified shapely polygon\n",
    "def polygons_from_shapes(shapes, target_label):\n",
    "    polygons = [\n",
    "        Polygon(shape[\"points\"])\n",
    "        for shape in shapes\n",
    "        if shape[\"label\"] == target_label and Polygon(shape[\"points\"]).is_valid\n",
    "    ]\n",
    "    if not polygons:\n",
    "        return MultiPolygon()\n",
    "    return unary_union(polygons)\n",
    "\n",
    "#Convert shapely polygon to binary mask\n",
    "def polygons_to_mask(polygons, height, width):\n",
    "    mask = np.zeros((height, width), dtype=np.uint8)\n",
    "    if polygons.is_empty:\n",
    "        return mask\n",
    "    if isinstance(polygons, Polygon):\n",
    "        polygons = [polygons]\n",
    "    elif polygons.geom_type == 'MultiPolygon':\n",
    "        polygons = list(polygons.geoms)\n",
    "\n",
    "    for poly in polygons:\n",
    "        if poly.is_empty:\n",
    "            continue\n",
    "        exterior = np.array(poly.exterior.coords).round().astype(np.int32)\n",
    "        cv2.fillPoly(mask, [exterior], 1)\n",
    "        for interior in poly.interiors:\n",
    "            interior_coords = np.array(interior.coords).round().astype(np.int32)\n",
    "            cv2.fillPoly(mask, [interior_coords], 0)\n",
    "    return mask\n",
    "\n",
    "#Main loop: generate PNG masks from JSON annotations\n",
    "for filename in os.listdir(input_folder):\n",
    "    if not filename.endswith(\".json\"):\n",
    "        continue\n",
    "\n",
    "    with open(os.path.join(input_folder, filename), 'r') as f:\n",
    "        data = json.load(f)\n",
    "\n",
    "    h = data['imageHeight']\n",
    "    w = data['imageWidth']\n",
    "\n",
    "    #Extract polygons per class\n",
    "    poly_noise = polygons_from_shapes(data[\"shapes\"], \"noise\")\n",
    "    poly_bg = polygons_from_shapes(data[\"shapes\"], \"background\")\n",
    "    poly_poro = polygons_from_shapes(data[\"shapes\"], \"porosity\")\n",
    "    poly_wall = polygons_from_shapes(data[\"shapes\"], \"wall\")\n",
    "\n",
    "    #Class 1: background (union of noise and background)\n",
    "    clean_bg = unary_union([poly_noise, poly_bg])\n",
    "\n",
    "    #Class 2: porosity minus background\n",
    "    clean_poro = poly_poro.difference(clean_bg)\n",
    "\n",
    "    #Class 3: wall minus background and porosity\n",
    "    clean_wall = poly_wall.difference(clean_bg.union(clean_poro))\n",
    "\n",
    "    #Convert each class to binary mask\n",
    "    mask_bg = polygons_to_mask(clean_bg, h, w)\n",
    "    mask_poro = polygons_to_mask(clean_poro, h, w)\n",
    "    mask_wall = polygons_to_mask(clean_wall, h, w)\n",
    "\n",
    "    #Build final mask with unique class values\n",
    "    final_mask = np.zeros((h, w), dtype=np.uint8)\n",
    "    final_mask[mask_bg > 0] = 1\n",
    "    final_mask[mask_poro > 0] = 2\n",
    "    final_mask[mask_wall > 0] = 3\n",
    "    final_mask[final_mask == 0] = 1  # Assign any remaining pixels to background\n",
    "\n",
    "    #Save as PNG\n",
    "    base_name = os.path.splitext(filename)[0]\n",
    "    cv2.imwrite(os.path.join(output_mask_folder, f\"{base_name}.png\"), final_mask)\n",
    "\n",
    "    print(f\"✔ Mask saved: {filename}\")\n",
    "\n",
    "print(\"Done! All masks saved.\")"
   ]
  },
  {
   "cell_type": "markdown",
   "id": "e5693b0e",
   "metadata": {},
   "source": [
    "#### Preprocess images and masks"
   ]
  },
  {
   "cell_type": "code",
   "execution_count": 14,
   "id": "d11dabd5",
   "metadata": {},
   "outputs": [
    {
     "name": "stdout",
     "output_type": "stream",
     "text": [
      "✔ All files from '../training_images/mapillary/cropped_training_panos' have been preprocessed and saved to '../training_images/mapillary/images_preprocessed'.\n",
      "✔ All files from '../training_images/mapillary/clean_masks_png' have been preprocessed and saved to '../training_images/mapillary/masks_preprocessed'.\n"
     ]
    }
   ],
   "source": [
    "#Parameters\n",
    "target_height = 512\n",
    "target_width = 1024\n",
    "\n",
    "#Process images\n",
    "preprocess_images(\n",
    "    input_folder='../training_images/mapillary/cropped_training_panos',\n",
    "    output_folder='../training_images/mapillary/images_preprocessed',\n",
    "    target_height=target_height,\n",
    "    target_width=target_width,\n",
    "    color=True,\n",
    "    ext=\".jpg\"\n",
    ")\n",
    "\n",
    "#Process masks\n",
    "preprocess_images(\n",
    "    input_folder='../training_images/mapillary/clean_masks_png',\n",
    "    output_folder='../training_images/mapillary/masks_preprocessed',\n",
    "    target_height=target_height,\n",
    "    target_width=target_width,\n",
    "    color=False,\n",
    "    ext=\".png\"\n",
    ")"
   ]
  },
  {
   "cell_type": "markdown",
   "id": "76e05220",
   "metadata": {},
   "source": [
    "#### Check that images are correctly divided in 3 classes"
   ]
  },
  {
   "cell_type": "code",
   "execution_count": null,
   "id": "7958800b",
   "metadata": {},
   "outputs": [
    {
     "name": "stdout",
     "output_type": "stream",
     "text": [
      "Unique classes in the output_mask_folder: [np.uint8(1), np.uint8(2), np.uint8(3)]\n"
     ]
    }
   ],
   "source": [
    "unique_classes = set()\n",
    "\n",
    "#Iterate through all mask files in the output folder\n",
    "for mask_file in os.listdir(output_mask_folder):\n",
    "    mask_path = os.path.join(output_mask_folder, mask_file)\n",
    "    mask = cv2.imread(mask_path, cv2.IMREAD_GRAYSCALE)\n",
    "    unique_classes.update(np.unique(mask))\n",
    "\n",
    "print(f\"Unique classes in the output_mask_folder: {sorted(unique_classes)}\")"
   ]
  },
  {
   "cell_type": "code",
   "execution_count": 17,
   "id": "f5d65e43",
   "metadata": {},
   "outputs": [
    {
     "data": {
      "image/png": "[encoded data removed]",
      "text/plain": [
       "<Figure size 1500x500 with 3 Axes>"
      ]
     },
     "metadata": {},
     "output_type": "display_data"
    }
   ],
   "source": [
    "visualize_class_masks('../training_images/mapillary/masks_preprocessed', num_images=3, max_size=1024)"
   ]
  },
  {
   "cell_type": "markdown",
   "id": "14a8c19a",
   "metadata": {},
   "source": [
    "## Divide both datasets in train,test, and val directories"
   ]
  },
  {
   "cell_type": "markdown",
   "id": "a0fc9598",
   "metadata": {},
   "source": [
    "#### Division code"
   ]
  },
  {
   "cell_type": "code",
   "execution_count": 18,
   "id": "54d91cdc",
   "metadata": {},
   "outputs": [],
   "source": [
    "def create_dirs(base_dir, splits=('train', 'val')):\n",
    "    for split in splits:\n",
    "        (base_dir / 'images' / split).mkdir(parents=True, exist_ok=True)\n",
    "        (base_dir / 'labels' / split).mkdir(parents=True, exist_ok=True)"
   ]
  },
  {
   "cell_type": "code",
   "execution_count": null,
   "id": "7df0a79d",
   "metadata": {},
   "outputs": [],
   "source": [
    "from pathlib import Path\n",
    "import shutil\n",
    "import random\n",
    "\n",
    "def create_dirs(base_dir, splits=('train', 'val')):\n",
    "    for split in splits:\n",
    "        (base_dir / 'images' / split).mkdir(parents=True, exist_ok=True)\n",
    "        (base_dir / 'labels' / split).mkdir(parents=True, exist_ok=True)\n",
    "\n",
    "def get_image_label_pairs(images_dir, labels_dir, img_ext=\".jpg\", lbl_ext=\".png\"):\n",
    "    images = sorted(images_dir.glob(f\"*{img_ext}\"))\n",
    "    pairs = []\n",
    "    for img_path in images:\n",
    "        label_path = labels_dir / f\"{img_path.stem}{lbl_ext}\"\n",
    "        if label_path.exists():\n",
    "            pairs.append((img_path, label_path))\n",
    "        else:\n",
    "            print(f\"[Warning] Label not found for {img_path.name}\")\n",
    "    return pairs\n",
    "\n",
    "def copy_pairs(pairs, dest_img_dir, dest_lbl_dir):\n",
    "    for img, lbl in pairs:\n",
    "        shutil.copy(img, dest_img_dir / img.name)\n",
    "        shutil.copy(lbl, dest_lbl_dir / lbl.name)\n",
    "\n",
    "def split_dataset(pairs, train_ratio=0.85, val_ratio=0.15, seed=42):\n",
    "    random.seed(seed)\n",
    "    random.shuffle(pairs)\n",
    "    n = len(pairs)\n",
    "    n_train = int(train_ratio * n)\n",
    "    n_val = int(val_ratio * n)\n",
    "    return {\n",
    "        'train': pairs[:n_train],\n",
    "        'val': pairs[n_train:n_train + n_val],\n",
    "    }\n",
    "\n",
    "def prepare_test_set(mapillary_pairs, test_count, output_base, seed=42):\n",
    "    print(f\"Creating test set with {test_count} Mapillary images...\")\n",
    "\n",
    "    #Shuffle before selecting test samples\n",
    "    random.seed(seed)\n",
    "    random.shuffle(mapillary_pairs)\n",
    "\n",
    "    test_img_dir = output_base / 'test_images'\n",
    "    test_lbl_dir = output_base / 'test_labels'\n",
    "    test_img_dir.mkdir(parents=True, exist_ok=True)\n",
    "    test_lbl_dir.mkdir(parents=True, exist_ok=True)\n",
    "\n",
    "    test_pairs = mapillary_pairs[:test_count]\n",
    "    copy_pairs(test_pairs, test_img_dir, test_lbl_dir)\n",
    "\n",
    "    #Return the remaining for training/validation\n",
    "    return mapillary_pairs[test_count:]\n",
    "\n",
    "def prepare_experiment(name, cmp_pairs, mapillary_pairs, output_base, seed=42):\n",
    "    print(f\"\\n Preparing experiment: {name}\")\n",
    "\n",
    "    base = output_base / name\n",
    "    create_dirs(base, splits=['train', 'val'])\n",
    "\n",
    "    if name == 'cmp_only':\n",
    "        data = split_dataset(cmp_pairs, seed=seed)\n",
    "    elif name == 'mapillary_only':\n",
    "        data = split_dataset(mapillary_pairs, seed=seed)\n",
    "    elif name == 'combined':\n",
    "        combined = cmp_pairs + mapillary_pairs\n",
    "        data = split_dataset(combined, seed=seed)\n",
    "    else:\n",
    "        raise ValueError(f\"Unknown experiment name: {name}\")\n",
    "\n",
    "    copy_pairs(data['train'], base / 'images' / 'train', base / 'labels' / 'train')\n",
    "    copy_pairs(data['val'], base / 'images' / 'val', base / 'labels' / 'val')\n",
    "\n",
    "    print(f\"✔ {name}: {len(data['train'])} train, {len(data['val'])} val\")\n",
    "\n",
    "def run_pipeline(\n",
    "    cmp_img_dir, cmp_lbl_dir,\n",
    "    map_img_dir, map_lbl_dir,\n",
    "    output_base,\n",
    "    img_ext=\".jpg\", lbl_ext=\".png\",\n",
    "    test_count=15,\n",
    "    seed=42\n",
    "):\n",
    "    cmp_pairs = get_image_label_pairs(cmp_img_dir, cmp_lbl_dir, img_ext, lbl_ext)\n",
    "    mapillary_pairs = get_image_label_pairs(map_img_dir, map_lbl_dir, img_ext, lbl_ext)\n",
    "\n",
    "    #Create test set randomly from Mapillary pairs\n",
    "    mapillary_remain = prepare_test_set(mapillary_pairs, test_count, output_base, seed)\n",
    "\n",
    "    #Prepare splits for training/validation\n",
    "    prepare_experiment(\"cmp_only\", cmp_pairs, [], output_base, seed)\n",
    "    prepare_experiment(\"mapillary_only\", [], mapillary_remain, output_base, seed)\n",
    "    prepare_experiment(\"combined\", cmp_pairs, mapillary_remain, output_base, seed)\n",
    "\n",
    "    print(\"\\n All dataset splits completed.\")"
   ]
  },
  {
   "cell_type": "code",
   "execution_count": 20,
   "id": "6571baa9",
   "metadata": {},
   "outputs": [
    {
     "name": "stdout",
     "output_type": "stream",
     "text": [
      "Creating test set with 15 Mapillary images...\n",
      "\n",
      " Preparing experiment: cmp_only\n",
      "✔ cmp_only: 515 train, 90 val\n",
      "\n",
      " Preparing experiment: mapillary_only\n",
      "✔ mapillary_only: 73 train, 12 val\n",
      "\n",
      " Preparing experiment: combined\n",
      "✔ combined: 588 train, 103 val\n",
      "\n",
      " All dataset splits completed.\n"
     ]
    }
   ],
   "source": [
    "# Apply the pipeline\n",
    "if __name__ == \"__main__\":\n",
    "    run_pipeline(\n",
    "        cmp_img_dir=Path(\"../training_images/cmp_dataset/cmp_images_preprocessed\"),\n",
    "        cmp_lbl_dir=Path(\"../training_images/cmp_dataset/cmp_masks_preprocessed\"),\n",
    "        map_img_dir=Path(\"../training_images/mapillary/images_preprocessed\"),\n",
    "        map_lbl_dir=Path(\"../training_images/mapillary/masks_preprocessed\"),\n",
    "        output_base=Path(\"../training_images/segmentation_splits\"),\n",
    "        img_ext=\".jpg\",\n",
    "        lbl_ext=\".png\",\n",
    "        test_count=15,\n",
    "        seed=42\n",
    "    )"
   ]
  }
 ],
 "metadata": {
  "kernelspec": {
   "display_name": "porosity_env",
   "language": "python",
   "name": "python3"
  },
  "language_info": {
   "codemirror_mode": {
    "name": "ipython",
    "version": 3
   },
   "file_extension": ".py",
   "mimetype": "text/x-python",
   "name": "python",
   "nbconvert_exporter": "python",
   "pygments_lexer": "ipython3",
   "version": "3.10.18"
  }
 },
 "nbformat": 4,
 "nbformat_minor": 5
}
